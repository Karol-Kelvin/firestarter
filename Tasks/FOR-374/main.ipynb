{
 "cells": [
  {
   "cell_type": "markdown",
   "metadata": {},
   "source": [
    "Import pandas i wczytanie pierwszych 3 wierszy z csv, xls i xlsx"
   ]
  },
  {
   "cell_type": "code",
   "execution_count": 37,
   "metadata": {},
   "outputs": [
    {
     "name": "stdout",
     "output_type": "stream",
     "text": [
      "\n",
      "----------CSV---------\n",
      "\n",
      "   Index      Customer Id First Name Last Name          Company  \\\n",
      "0      1  DD37Cf93aecA6Dc     Sheryl    Baxter  Rasmussen Group   \n",
      "1      2  1Ef7b82A4CAAD10    Preston    Lozano      Vega-Gentry   \n",
      "2      3  6F94879bDAfE5a6        Roy     Berry    Murillo-Perry   \n",
      "\n",
      "                City              Country          Phone 1  \\\n",
      "0       East Leonard                Chile     229.077.5154   \n",
      "1  East Jimmychester             Djibouti       5153435776   \n",
      "2      Isabelborough  Antigua and Barbuda  +1-539-402-0259   \n",
      "\n",
      "               Phone 2                     Email Subscription Date  \\\n",
      "0     397.884.0519x718  zunigavanessa@smith.info        2020-08-24   \n",
      "1     686-620-1820x944           vmata@colon.com        2021-04-23   \n",
      "2  (496)978-3969x58947       beckycarr@hogan.com        2020-03-25   \n",
      "\n",
      "                      Website  \n",
      "0  http://www.stephenson.com/  \n",
      "1       http://www.hobbs.com/  \n",
      "2    http://www.lawrence.com/  \n",
      "\n",
      "----------XLSX---------\n",
      "\n",
      "   0 First Name  Last Name  Gender        Country  Age        Date    Id\n",
      "0  1      Dulce      Abril  Female  United States   32  15/10/2017  1562\n",
      "1  2       Mara  Hashimoto  Female  Great Britain   25  16/08/2016  1582\n",
      "2  3     Philip       Gent    Male         France   36  21/05/2015  2587\n",
      "\n",
      "----------XLS---------\n",
      "\n",
      "   0 First Name  Last Name  Gender        Country  Age        Date    Id\n",
      "0  1      Dulce      Abril  Female  United States   32  15/10/2017  1562\n",
      "1  2       Mara  Hashimoto  Female  Great Britain   25  16/08/2016  1582\n",
      "2  3     Philip       Gent    Male         France   36  21/05/2015  2587\n"
     ]
    }
   ],
   "source": [
    "import pandas as pd\n",
    "import requests\n",
    "\n",
    "#CSV\n",
    "print(\"\\n----------CSV---------\\n\")\n",
    "df0 = pd.read_csv('data/customers-100.csv')\n",
    "print(df0.head(3))\n",
    "\n",
    "#XLSX\n",
    "print(\"\\n----------XLSX---------\\n\")\n",
    "df1 = pd.read_excel('data/file_example_XLSX_10.xlsx', engine='openpyxl')\n",
    "print(df1.head(3))\n",
    "\n",
    "#XLS\n",
    "print(\"\\n----------XLS---------\\n\")\n",
    "df2 = pd.read_excel('data/file_example_XLS_10.xls', engine='xlrd')\n",
    "print(df2.head(3))"
   ]
  },
  {
   "cell_type": "markdown",
   "metadata": {},
   "source": [
    "Request example"
   ]
  },
  {
   "cell_type": "code",
   "execution_count": 38,
   "metadata": {},
   "outputs": [
    {
     "name": "stdout",
     "output_type": "stream",
     "text": [
      "Details of user 1:\n",
      "{'id': 1, 'name': 'Leanne Graham', 'username': 'Bret', 'email': 'Sincere@april.biz', 'address': {'street': 'Kulas Light', 'suite': 'Apt. 556', 'city': 'Gwenborough', 'zipcode': '92998-3874', 'geo': {'lat': '-37.3159', 'lng': '81.1496'}}, 'phone': '1-770-736-8031 x56442', 'website': 'hildegard.org', 'company': {'name': 'Romaguera-Crona', 'catchPhrase': 'Multi-layered client-server neural-net', 'bs': 'harness real-time e-markets'}}\n"
     ]
    }
   ],
   "source": [
    "BASE_URL = \"https://jsonplaceholder.typicode.com\"\n",
    "\n",
    "def get_user(user_id):\n",
    "    response = requests.get(f\"{BASE_URL}/users/{user_id}\")\n",
    "    if response.status_code == 200:\n",
    "        print(f\"Details of user {user_id}:\")\n",
    "        print(response.json())\n",
    "    else:\n",
    "        print(f\"Failed to get user {user_id}: {response.status_code}\")\n",
    "\n",
    "get_user(1)"
   ]
  },
  {
   "cell_type": "markdown",
   "metadata": {},
   "source": [
    "Read table from Wikipedia"
   ]
  },
  {
   "cell_type": "code",
   "execution_count": 39,
   "metadata": {},
   "outputs": [
    {
     "name": "stdout",
     "output_type": "stream",
     "text": [
      "Found 21 tables.\n",
      "      Unnamed: 0  Total (MToe) Coal Oil & Gas Renewable Nuclear\n",
      "0          China          2950  71%       13%       10%      6%\n",
      "1  United States          2210  13%       69%        8%     10%\n",
      "2         Russia          1516  16%       78%        2%      4%\n"
     ]
    }
   ],
   "source": [
    "#URL\n",
    "url = 'https://en.wikipedia.org/wiki/World_energy_supply_and_consumption'\n",
    "\n",
    "#Load all tables from url\n",
    "tables = pd.read_html(url)\n",
    "\n",
    "#Show number of tables found\n",
    "print(f\"Found {len(tables)} tables.\")\n",
    "\n",
    "#Choose table\n",
    "df3 = tables[0]\n",
    "print(df3.head(3))"
   ]
  },
  {
   "cell_type": "markdown",
   "metadata": {},
   "source": [
    "Write to CSV files"
   ]
  },
  {
   "cell_type": "code",
   "execution_count": 40,
   "metadata": {},
   "outputs": [
    {
     "name": "stdout",
     "output_type": "stream",
     "text": [
      "Zapisano df0.csv\n",
      "Zapisano df1.csv\n",
      "Zapisano df2.csv\n",
      "Zapisano df3.csv\n"
     ]
    }
   ],
   "source": [
    "#Define tables\n",
    "dataframes = [df0, df1, df2, df3]\n",
    "filenames = ['df0.csv', 'df1.csv', 'df2.csv', 'df3.csv']\n",
    "\n",
    "#Write each file\n",
    "for df, filename in zip(dataframes, filenames):\n",
    "    df.to_csv(f\"data/output/{filename}\", index=False)\n",
    "    print(f'Zapisano {filename}')"
   ]
  }
 ],
 "metadata": {
  "kernelspec": {
   "display_name": "Python 3",
   "language": "python",
   "name": "python3"
  },
  "language_info": {
   "codemirror_mode": {
    "name": "ipython",
    "version": 3
   },
   "file_extension": ".py",
   "mimetype": "text/x-python",
   "name": "python",
   "nbconvert_exporter": "python",
   "pygments_lexer": "ipython3",
   "version": "3.12.3"
  }
 },
 "nbformat": 4,
 "nbformat_minor": 2
}
